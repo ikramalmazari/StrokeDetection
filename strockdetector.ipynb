Code cell <WyDKe74gZxBP>
# %% [code]
# This Python 3 environment comes with many helpful analytics libraries installed
# It is defined by the kaggle/python Docker image: https://github.com/kaggle/docker-python
# For example, here's several helpful packages to load

import numpy as np # linear algebra
import pandas as pd # data processing, CSV file I/O (e.g. pd.read_csv)
from sklearn.ensemble import RandomForestClassifier
from sklearn.neighbors import KNeighborsClassifier
from sklearn.linear_model import LinearRegression
from sklearn.naive_bayes import GaussianNB
from sklearn import metrics


# You can write up to 20GB to the current directory (/kaggle/working/) that gets preserved as output when you create a version using "Save & Run All" 
# You can also write temporary files to /kaggle/temp/, but they won't be saved outside of the current session

Code cell <yCMiUwWNZxBb>
# %% [code]
trainData=pd.read_csv('train.csv')

Code cell <QTgwJdM5ZxBc>
# %% [code]
trainData
Execution output
6KB
	text/plain
		id  gender   age  hypertension  heart_disease ever_married  \
		0     28932  Female  36.0             0              0          Yes   
		1     37150  Female  34.0             0              0          Yes   
		2     71669    Male  60.0             0              0          Yes   
		3     27153  Female  75.0             0              0          Yes   
		4     58235    Male  76.0             0              0          Yes   
		...     ...     ...   ...           ...            ...          ...   
		4083  30457  Female  53.0             1              0          Yes   
		4084  24836  Female  61.0             0              0          Yes   
		4085  17079    Male  44.0             0              0          Yes   
		4086  72340    Male  21.0             0              0           No   
		4087  52242  Female  58.0             1              0          Yes   
		
		          work_type Residence_type  avg_glucose_level   bmi   smoking_status  \
		0           Private          Rural              67.29  36.7  formerly smoked   
		1           Private          Rural              83.53  48.5  formerly smoked   
		2           Private          Rural              65.16  30.8     never smoked   
		3     Self-employed          Rural              78.80  29.3  formerly smoked   
		4           Private          Urban              58.65  25.6           smokes   
		...             ...            ...                ...   ...              ...   
		4083       Govt_job          Rural              98.61  38.8           smokes   
		4084        Private          Rural              72.01  26.0  formerly smoked   
		4085        Private          Rural              94.71  28.4           smokes   
		4086        Private          Urban             120.94  29.7  formerly smoked   
		4087       Govt_job          Rural              59.52  33.2     never smoked   
		
		      stroke  
		0          0  
		1          0  
		2          0  
		3          1  
		4          0  
		...      ...  
		4083       0  
		4084       0  
		4085       0  
		4086       0  
		4087       0  
		
		[4088 rows x 12 columns]

Code cell <kJHQIjxIZxBe>
# %% [code]
trainData.info()
Execution output
1KB
	Stream
		<class 'pandas.core.frame.DataFrame'>
		RangeIndex: 4088 entries, 0 to 4087
		Data columns (total 12 columns):
		 #   Column             Non-Null Count  Dtype  
		---  ------             --------------  -----  
		 0   id                 4088 non-null   int64  
		 1   gender             4088 non-null   object 
		 2   age                4088 non-null   float64
		 3   hypertension       4088 non-null   int64  
		 4   heart_disease      4088 non-null   int64  
		 5   ever_married       4088 non-null   object 
		 6   work_type          4088 non-null   object 
		 7   Residence_type     4088 non-null   object 
		 8   avg_glucose_level  4088 non-null   float64
		 9   bmi                3928 non-null   float64
		 10  smoking_status     4088 non-null   object 
		 11  stroke             4088 non-null   int64  
		dtypes: float64(3), int64(4), object(5)
		memory usage: 383.4+ KB

Code cell <lgSXMLQUZxBg>
# %% [code]
trainData.isna().sum()
Execution output
0KB
	text/plain
		id                     0
		gender                 0
		age                    0
		hypertension           0
		heart_disease          0
		ever_married           0
		work_type              0
		Residence_type         0
		avg_glucose_level      0
		bmi                  160
		smoking_status         0
		stroke                 0
		dtype: int64

Code cell <6QvuiSd9ZxBh>
# %% [code]
trainData.dropna(inplace=True)

Code cell <Odug5qD-ZxBi>
# %% [code]
trainData.drop('id',axis=1,inplace=True)

Code cell <kspELMzDZxBj>
# %% [code]
trainData
Execution output
6KB
	text/plain
		gender   age  hypertension  heart_disease ever_married      work_type  \
		0     Female  36.0             0              0          Yes        Private   
		1     Female  34.0             0              0          Yes        Private   
		2       Male  60.0             0              0          Yes        Private   
		3     Female  75.0             0              0          Yes  Self-employed   
		4       Male  76.0             0              0          Yes        Private   
		...      ...   ...           ...            ...          ...            ...   
		4083  Female  53.0             1              0          Yes       Govt_job   
		4084  Female  61.0             0              0          Yes        Private   
		4085    Male  44.0             0              0          Yes        Private   
		4086    Male  21.0             0              0           No        Private   
		4087  Female  58.0             1              0          Yes       Govt_job   
		
		     Residence_type  avg_glucose_level   bmi   smoking_status  stroke  
		0             Rural              67.29  36.7  formerly smoked       0  
		1             Rural              83.53  48.5  formerly smoked       0  
		2             Rural              65.16  30.8     never smoked       0  
		3             Rural              78.80  29.3  formerly smoked       1  
		4             Urban              58.65  25.6           smokes       0  
		...             ...                ...   ...              ...     ...  
		4083          Rural              98.61  38.8           smokes       0  
		4084          Rural              72.01  26.0  formerly smoked       0  
		4085          Rural              94.71  28.4           smokes       0  
		4086          Urban             120.94  29.7  formerly smoked       0  
		4087          Rural              59.52  33.2     never smoked       0  
		
		[3928 rows x 11 columns]

Code cell <VuAiXS4YZxBl>
# %% [code]
df_encoded = pd.get_dummies(trainData["smoking_status"])
df_encoded.head()
Execution output
3KB
	text/plain
		Unknown  formerly smoked  never smoked  smokes
		0           0                1             0       0
		1           0                1             0       0
		2           0                0             1       0
		3           0                1             0       0
		4           0                0             0       1
		...       ...              ...           ...     ...
		4083        0                0             0       1
		4084        0                1             0       0
		4085        0                0             0       1
		4086        0                1             0       0
		4087        0                0             1       0
		
		[3928 rows x 4 columns]

Code cell <zF7kjHwhZxBm>
# %% [code]
df_encoded2 = pd.get_dummies(trainData["work_type"])
df_encoded2.drop("Never_worked", axis=1,inplace=True)
df_encoded2.head()
Execution output
1KB
	text/plain
		Govt_job  Private  Self-employed  children
		0         0        1              0         0
		1         0        1              0         0
		2         0        1              0         0
		3         0        0              1         0
		4         0        1              0         0

Code cell <4ppqwjzzZxBn>
# %% [code]
trainData=pd.concat([trainData,df_encoded,df_encoded2],axis=1)
trainData.drop("work_type", axis=1,inplace=True)
trainData.drop("smoking_status", axis=1,inplace=True)

Code cell <VuSs0W-LZxBn>
# %% [code]
trainData['gender'].replace({'Male':1,'Female':2,}, inplace=True)
trainData['ever_married'].replace({'Yes':1,'No':0}, inplace=True)
trainData['Residence_type'].replace({'Rural':1,'Urban':2}, inplace=True)

trainData['gender']=pd.to_numeric(trainData['gender'],errors='coerce')
trainData.dropna(inplace=True)

Code cell <nxoqTL7WZxBo>
# %% [code]

trainData
Execution output
7KB
	text/plain
		gender   age  hypertension  heart_disease  ever_married  Residence_type  \
		0         2  36.0             0              0             1               1   
		1         2  34.0             0              0             1               1   
		2         1  60.0             0              0             1               1   
		3         2  75.0             0              0             1               1   
		4         1  76.0             0              0             1               2   
		...     ...   ...           ...            ...           ...             ...   
		4083      2  53.0             1              0             1               1   
		4084      2  61.0             0              0             1               1   
		4085      1  44.0             0              0             1               1   
		4086      1  21.0             0              0             0               2   
		4087      2  58.0             1              0             1               1   
		
		      avg_glucose_level   bmi  stroke  Unknown  formerly smoked  never smoked  \
		0                 67.29  36.7       0        0                1             0   
		1                 83.53  48.5       0        0                1             0   
		2                 65.16  30.8       0        0                0             1   
		3                 78.80  29.3       1        0                1             0   
		4                 58.65  25.6       0        0                0             0   
		...                 ...   ...     ...      ...              ...           ...   
		4083              98.61  38.8       0        0                0             0   
		4084              72.01  26.0       0        0                1             0   
		4085              94.71  28.4       0        0                0             0   
		4086             120.94  29.7       0        0                1             0   
		4087              59.52  33.2       0        0                0             1   
		
		      smokes  Govt_job  Private  Self-employed  children  
		0          0         0        1              0         0  
		1          0         0        1              0         0  
		2          0         0        1              0         0  
		3          0         0        0              1         0  
		4          1         0        1              0         0  
		...      ...       ...      ...            ...       ...  
		4083       1         1        0              0         0  
		4084       0         0        1              0         0  
		4085       1         0        1              0         0  
		4086       0         0        1              0         0  
		4087       0         1        0              0         0  
		
		[3928 rows x 17 columns]

Code cell <B1AFSAH1ZxBo>
# %% [code]
trainData.info()
Execution output
1KB
	Stream
		<class 'pandas.core.frame.DataFrame'>
		Int64Index: 3928 entries, 0 to 4087
		Data columns (total 17 columns):
		 #   Column             Non-Null Count  Dtype  
		---  ------             --------------  -----  
		 0   gender             3928 non-null   object 
		 1   age                3928 non-null   float64
		 2   hypertension       3928 non-null   int64  
		 3   heart_disease      3928 non-null   int64  
		 4   ever_married       3928 non-null   int64  
		 5   Residence_type     3928 non-null   int64  
		 6   avg_glucose_level  3928 non-null   float64
		 7   bmi                3928 non-null   float64
		 8   stroke             3928 non-null   int64  
		 9   Unknown            3928 non-null   uint8  
		 10  formerly smoked    3928 non-null   uint8  
		 11  never smoked       3928 non-null   uint8  
		 12  smokes             3928 non-null   uint8  
		 13  Govt_job           3928 non-null   uint8  
		 14  Private            3928 non-null   uint8  
		 15  Self-employed      3928 non-null   uint8  
		 16  children           3928 non-null   uint8  
		dtypes: float64(3), int64(5), object(1), uint8(8)
		memory usage: 337.6+ KB

Code cell <9f-BUx1RZxBq>
# %% [code]
trainData.isna().sum()
Execution output
1KB
	text/plain
		gender               1
		age                  0
		hypertension         0
		heart_disease        0
		ever_married         0
		Residence_type       0
		avg_glucose_level    0
		bmi                  0
		stroke               0
		Unknown              0
		formerly smoked      0
		never smoked         0
		smokes               0
		Govt_job             0
		Private              0
		Self-employed        0
		children             0
		dtype: int64

Code cell <qTbbbbRIZxBr>
# %% [code]
x = trainData.drop("stroke", axis=1)
y = trainData["stroke"]

Code cell <ankDy66lZxBs>
# %% [code]
from sklearn.model_selection import train_test_split
x_train, x_test, y_train, y_test = train_test_split(x,y,test_size=0.33, random_state=250)

Code cell <RdzWYI5AZxBs>
# %% [code]
#CLF = KNeighborsClassifier(weights='uniform',n_neighbors=1,algorithm='kd_tree') => 0.56
#CLF =RandomForestClassifier()
CLF=GaussianNB(var_smoothing=1e-9) =>0.71

Code cell <oAwIj9_vZxBt>
# %% [code]
CLF.fit(x_train, y_train)
Execution output
0KB
	text/plain
		GaussianNB()

Code cell <RDsNuloGZxBt>
# %% [code]
y_predict = CLF.predict(x_test)
type(y_predict)
Execution output
0KB
	text/plain
		numpy.ndarray

Code cell <jtGVMV_yZxBt>
# %% [code]
pd.DataFrame(y_predict).to_csv('predictied0.csv')

Code cell <vSgw9F81ZxBu>
# %% [code]
metrics.accuracy_score(y_test, y_predict)
Execution output
0KB
	text/plain
		0.5314814814814814

Code cell <3Xpu35IrZxBu>
# %% [code]
testData=pd.read_csv('test.csv')

Code cell <jEkTB14vZxBu>
# %% [code]
testData
Execution output
6KB
	text/plain
		id  gender   age  hypertension  heart_disease ever_married work_type  \
		0     61960    Male  82.0             0              1          Yes   Private   
		1     31741    Male   4.0             0              0           No  children   
		2     59451    Male  58.0             0              0          Yes   Private   
		3     40670  Female  20.0             0              0           No   Private   
		4     25391  Female  10.0             0              0           No  children   
		...     ...     ...   ...           ...            ...          ...       ...   
		1017   2953  Female  43.0             0              0          Yes   Private   
		1018  47799  Female  42.0             0              0          Yes   Private   
		1019  61013    Male  52.0             0              0           No   Private   
		1020  66400    Male  78.0             0              0          Yes   Private   
		1021   9013  Female  35.0             0              0          Yes   Private   
		
		     Residence_type  avg_glucose_level   bmi   smoking_status  
		0             Urban             144.90  26.4           smokes  
		1             Rural             106.22  16.7          Unknown  
		2             Urban              79.95  25.9     never smoked  
		3             Rural              96.57  34.1     never smoked  
		4             Rural              69.84  13.7          Unknown  
		...             ...                ...   ...              ...  
		1017          Rural              75.05  22.9           smokes  
		1018          Urban             191.94  27.9     never smoked  
		1019          Rural              69.37  36.2          Unknown  
		1020          Urban             237.75   NaN  formerly smoked  
		1021          Rural              83.27  19.8  formerly smoked  
		
		[1022 rows x 11 columns]

Code cell <bfskXMxgZxBu>
# %% [code]
testData.isna().sum()
Execution output
0KB
	text/plain
		id                    0
		gender                0
		age                   0
		hypertension          0
		heart_disease         0
		ever_married          0
		work_type             0
		Residence_type        0
		avg_glucose_level     0
		bmi                  41
		smoking_status        0
		dtype: int64

Code cell <alO2wcsRZxBv>
# %% [code]
testData.describe()
Execution output
3KB
	text/plain
		id          age  hypertension  heart_disease  \
		count   1022.000000  1022.000000    1022.00000    1022.000000   
		mean   36557.772016    42.377613       0.09002       0.052838   
		std    21318.962804    22.391099       0.28635       0.223819   
		min      365.000000     0.160000       0.00000       0.000000   
		25%    17279.500000    24.000000       0.00000       0.000000   
		50%    36307.500000    44.000000       0.00000       0.000000   
		75%    54394.500000    59.000000       0.00000       0.000000   
		max    72824.000000    82.000000       1.00000       1.000000   
		
		       avg_glucose_level         bmi  
		count        1022.000000  981.000000  
		mean          105.717339   28.845056  
		std            45.230028    7.278055  
		min            55.220000   13.700000  
		25%            77.352500   23.800000  
		50%            91.330000   28.300000  
		75%           113.975000   33.000000  
		max           267.610000   56.600000

Code cell <mUlCfW0NZxBw>
# %% [code]
testData=testData.fillna(28.845056)

Code cell <QPdkHMOVZxBx>
# %% [code]
testData.isna().sum()
Execution output
0KB
	text/plain
		id                   0
		gender               0
		age                  0
		hypertension         0
		heart_disease        0
		ever_married         0
		work_type            0
		Residence_type       0
		avg_glucose_level    0
		bmi                  0
		smoking_status       0
		dtype: int64

Code cell <c_P-FpABZxBy>
# %% [code]
tid = testData['id']
testData = testData.drop("id", axis=1)

Code cell <SFwL7Vm7ZxBy>
# %% [code]
df_encoded = pd.get_dummies(testData["smoking_status"])

Code cell <k8GXk89FZxBz>
# %% [code]
df_encoded2 = pd.get_dummies(testData["work_type"])
df_encoded2.drop("Never_worked", axis=1,inplace=True)
df_encoded2.head()
Execution output
1KB
	text/plain
		Govt_job  Private  Self-employed  children
		0         0        1              0         0
		1         0        0              0         1
		2         0        1              0         0
		3         0        1              0         0
		4         0        0              0         1

Code cell <NHj03_vQZxB0>
# %% [code]
testData=pd.concat([testData,df_encoded,df_encoded2],axis=1)
testData.drop("work_type", axis=1,inplace=True)
testData.drop("smoking_status", axis=1,inplace=True)

Code cell <OIgxlD6bZxCA>
# %% [code]
testData['gender'].replace({'Male':1,'Female':2,}, inplace=True)
testData['ever_married'].replace({'Yes':1,'No':0}, inplace=True)
testData['Residence_type'].replace({'Rural':1,'Urban':2}, inplace=True)

Code cell <up50n0ONZxCB>
# %% [code]
y_predict2=CLF.predict(testData)
type(y_predict2)
Execution output
0KB
	text/plain
		numpy.ndarray

Code cell <nU55V6R2ZxCB>
# %% [code]
testData
Execution output
7KB
	text/plain
		gender   age  hypertension  heart_disease  ever_married  Residence_type  \
		0          1  82.0             0              1             1               2   
		1          1   4.0             0              0             0               1   
		2          1  58.0             0              0             1               2   
		3          2  20.0             0              0             0               1   
		4          2  10.0             0              0             0               1   
		...      ...   ...           ...            ...           ...             ...   
		1017       2  43.0             0              0             1               1   
		1018       2  42.0             0              0             1               2   
		1019       1  52.0             0              0             0               1   
		1020       1  78.0             0              0             1               2   
		1021       2  35.0             0              0             1               1   
		
		      avg_glucose_level        bmi  Unknown  formerly smoked  never smoked  \
		0                144.90  26.400000        0                0             0   
		1                106.22  16.700000        1                0             0   
		2                 79.95  25.900000        0                0             1   
		3                 96.57  34.100000        0                0             1   
		4                 69.84  13.700000        1                0             0   
		...                 ...        ...      ...              ...           ...   
		1017              75.05  22.900000        0                0             0   
		1018             191.94  27.900000        0                0             1   
		1019              69.37  36.200000        1                0             0   
		1020             237.75  28.845056        0                1             0   
		1021              83.27  19.800000        0                1             0   
		
		      smokes  Govt_job  Private  Self-employed  children  
		0          1         0        1              0         0  
		1          0         0        0              0         1  
		2          0         0        1              0         0  
		3          0         0        1              0         0  
		4          0         0        0              0         1  
		...      ...       ...      ...            ...       ...  
		1017       1         0        1              0         0  
		1018       0         0        1              0         0  
		1019       0         0        1              0         0  
		1020       0         0        1              0         0  
		1021       0         0        1              0         0  
		
		[1022 rows x 16 columns]

Code cell <4Vg9ZUPoZxCC>
# %% [code]
testData=pd.DataFrame({'id':tid,'stroke':y_predict2})

Code cell <VGVg-9vlZxCC>
# %% [code]
testData
Execution output
2KB
	text/plain
		id  stroke
		0     61960       1
		1     31741       0
		2     59451       1
		3     40670       0
		4     25391       0
		...     ...     ...
		1017   2953       0
		1018  47799       1
		1019  61013       0
		1020  66400       1
		1021   9013       0
		
		[1022 rows x 2 columns]

Code cell <wU-5e_4yZxCC>
# %% [code]
testData.to_csv('predictied.csv',index=False)


